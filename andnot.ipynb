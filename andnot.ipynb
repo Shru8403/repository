{
 "cells": [
  {
   "cell_type": "code",
   "execution_count": 14,
   "id": "b46ad844-b408-4b27-aed8-067ae47c6ed8",
   "metadata": {},
   "outputs": [],
   "source": [
    "import numpy as np"
   ]
  },
  {
   "cell_type": "code",
   "execution_count": 15,
   "id": "860bfc8b-b3e0-4255-9d04-61005d5ffb9c",
   "metadata": {},
   "outputs": [],
   "source": [
    "# function of checking thresold value \n",
    "def linear_threshold_gate(dot, T):\n",
    "    if dot >= T:\n",
    "        return 1 \n",
    "    else:\n",
    "        return 0"
   ]
  },
  {
   "cell_type": "code",
   "execution_count": 19,
   "id": "944c5220-c1fb-44c7-95eb-a524e0755821",
   "metadata": {},
   "outputs": [],
   "source": [
    "# matrix of inputs \n",
    "input_table = np.array([\n",
    "    [0,0], # both no\n",
    "    [0,1], # one no, one yes \n",
    "    [1,0], # one yes, one no \n",
    "    [1,1] # bot yes\n",
    "])"
   ]
  },
  {
   "cell_type": "code",
   "execution_count": 20,
   "id": "ce424b90-6824-4782-b877-b7de0790ca6c",
   "metadata": {},
   "outputs": [
    {
     "name": "stdout",
     "output_type": "stream",
     "text": [
      "input table:\n",
      "[[0 0]\n",
      " [0 1]\n",
      " [1 0]\n",
      " [1 1]]\n",
      "dot products:\n",
      "[ 0 -1  1  0]\n",
      "Activation: 0\n",
      "Activation: 0\n",
      "Activation: 1\n",
      "Activation: 0\n"
     ]
    }
   ],
   "source": [
    "weights = np.array([1,-1])\n",
    "T = 1\n",
    "\n",
    "dot_products_sum = input_table @ weights\n",
    "\n",
    "print(f'input table:\\n{input_table}') \n",
    "print(f'dot products:\\n{dot_products_sum}')\n",
    "\n",
    "for i in range(0,4):\n",
    "    activation = linear_threshold_gate(dot_products_sum[i], T) \n",
    "    print(f'Activation: {activation}')"
   ]
  },
  {
   "cell_type": "code",
   "execution_count": 21,
   "id": "3af78b2f-ee55-4391-8711-848467c46e11",
   "metadata": {},
   "outputs": [
    {
     "name": "stdout",
     "output_type": "stream",
     "text": [
      "1\n",
      "0\n",
      "1\n",
      "0\n"
     ]
    }
   ],
   "source": [
    "def ANDNOT(x1, x2):\n",
    "    # Step 1: Define the weights and threshold\n",
    "    w1 = 2\n",
    "    w2 = -2\n",
    "    threshold = 0.5\n",
    "\n",
    "    # Step 2: Calculate the activation potential\n",
    "    activation = w1 * x1 + w2 * x2\n",
    "\n",
    "    # Step 3: Apply the threshold function (McCulloch-Pitts model)\n",
    "    output = 1 if activation > threshold else 0\n",
    "    \n",
    "    # Step 4: Return the output\n",
    "    return output\n",
    "\n",
    "# Testing the ANDNOT function\n",
    "print(ANDNOT(2, 0))  # Expected output: 0\n",
    "print(ANDNOT(0, 1))  # Expected output: 0\n",
    "print(ANDNOT(1, 0))  # Expected output: 1\n",
    "print(ANDNOT(1, 1))  # Expected output: 0"
   ]
  },
  {
   "cell_type": "code",
   "execution_count": null,
   "id": "cdf7c3a2-1e05-46fa-baa4-25f24e46ad22",
   "metadata": {},
   "outputs": [],
   "source": []
  },
  {
   "cell_type": "code",
   "execution_count": null,
   "id": "022570a9-cde1-42d2-ae8c-4adce1767f1d",
   "metadata": {},
   "outputs": [],
   "source": []
  }
 ],
 "metadata": {
  "kernelspec": {
   "display_name": "Python 3 (ipykernel)",
   "language": "python",
   "name": "python3"
  },
  "language_info": {
   "codemirror_mode": {
    "name": "ipython",
    "version": 3
   },
   "file_extension": ".py",
   "mimetype": "text/x-python",
   "name": "python",
   "nbconvert_exporter": "python",
   "pygments_lexer": "ipython3",
   "version": "3.10.5"
  }
 },
 "nbformat": 4,
 "nbformat_minor": 5
}

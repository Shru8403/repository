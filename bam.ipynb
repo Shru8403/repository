{
 "cells": [
  {
   "cell_type": "code",
   "execution_count": 3,
   "id": "3a23db71",
   "metadata": {},
   "outputs": [
    {
     "name": "stdout",
     "output_type": "stream",
     "text": [
      "Input x:  [ 1 -1 -1 -1]\n",
      "Output y:  [ 1 -1]\n"
     ]
    }
   ],
   "source": [
    "#Write a python program for bidirectional associative memory with two pairs of vectors\n",
    "\n",
    "import numpy as np\n",
    "\n",
    "# define two pairs of vectors \n",
    "x1 = np.array([1, 1, 1, -1])\n",
    "y1 = np.array([1, -1])\n",
    "x2 = np.array([-1, -1, 1, 1]) \n",
    "y2 = np.array([-1, 1])\n",
    "\n",
    "# compute weight matrix W\n",
    "W = np.outer(y1, x1) + np.outer(y2, x2)\n",
    "\n",
    "# define BAM function \n",
    "def bam(x):\n",
    "    y = W @ x\n",
    "    return np.where(y>=0, 1, -1)\n",
    "\n",
    "# test BAM with inputs\n",
    "x_test = np.array([1, -1, -1, -1]) \n",
    "y_test = bam(x_test)\n",
    "\n",
    "# print output \n",
    "print(\"Input x: \", x_test) \n",
    "print(\"Output y: \", y_test)"
   ]
  },
  {
   "cell_type": "code",
   "execution_count": null,
   "id": "d8f83d84",
   "metadata": {},
   "outputs": [],
   "source": []
  },
  {
   "cell_type": "code",
   "execution_count": null,
   "id": "335f0876",
   "metadata": {},
   "outputs": [],
   "source": []
  }
 ],
 "metadata": {
  "kernelspec": {
   "display_name": "Python 3 (ipykernel)",
   "language": "python",
   "name": "python3"
  },
  "language_info": {
   "codemirror_mode": {
    "name": "ipython",
    "version": 3
   },
   "file_extension": ".py",
   "mimetype": "text/x-python",
   "name": "python",
   "nbconvert_exporter": "python",
   "pygments_lexer": "ipython3",
   "version": "3.10.5"
  }
 },
 "nbformat": 4,
 "nbformat_minor": 5
}
